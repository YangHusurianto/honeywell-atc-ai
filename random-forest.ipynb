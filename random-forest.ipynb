{
 "cells": [
  {
   "cell_type": "code",
   "execution_count": 16,
   "metadata": {
    "collapsed": false
   },
   "outputs": [],
   "source": [
    "#Google Sheet Link: https://docs.google.com/spreadsheets/d/1RiU9c3YihCsAqh18C25WMfTxkOiAf-nXhxAWtEaKLA0/edit#gid=0\n",
    "import pandas as pd\n",
    "import numpy as np\n",
    "import matplotlib as mpl\n",
    "import matplotlib.pyplot as plt\n",
    "\n",
    "pd.set_option('display.max_rows', 100) #Displays a max of 500 rows for testing\n",
    "\n",
    "sheet_id = '1RiU9c3YihCsAqh18C25WMfTxkOiAf-nXhxAWtEaKLA0'\n",
    "xls = pd.ExcelFile(f\"https://docs.google.com/spreadsheets/d/{sheet_id}/export?format=xlsx\")\n",
    "\n",
    "arrivals = pd.read_excel(xls, 'Arrivals', header = 0) #Reads in the Google Sheets Data\n",
    "arrivals = arrivals.drop(['blank', 'Communication Type/Reason for Speaking.1'], axis=1) #Drops unnecessary Columns/Headers\n",
    "arrivals = arrivals.dropna(thresh=14) #Drops all rows and columns with more than 14 N/A values\n",
    "departures = pd.read_excel(xls, 'Departures', header = 0)\n",
    "departures = departures.drop(['Airport', 'Communication Type/Reason for Speaking.1'], axis=1)\n",
    "\n",
    "#You'll need this 'pip install -U scikit-learn scipy matplotlib' to install it, or 'pip3 install -U scikit-learn scipy matplotlib' for Python3\n",
    "from sklearn.ensemble import RandomForestClassifier \n",
    "rf = RandomForestClassifier()\n",
    "#rf.fit()\n",
    "#RandomForestClassifier()"
   ]
  }
 ],
 "metadata": {
  "kernelspec": {
   "display_name": "Python 3",
   "language": "python",
   "name": "python3"
  },
  "language_info": {
   "codemirror_mode": {
    "name": "ipython",
    "version": 3
   },
   "file_extension": ".py",
   "mimetype": "text/x-python",
   "name": "python",
   "nbconvert_exporter": "python",
   "pygments_lexer": "ipython3",
   "version": "3.10.2"
  },
  "vscode": {
   "interpreter": {
    "hash": "9d4300f365f03f1fcc8f4fd3b0e59bc483e43e450e424a43d376e4175f7d1793"
   }
  }
 },
 "nbformat": 4,
 "nbformat_minor": 0
}
