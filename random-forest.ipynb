{
 "cells": [
  {
   "cell_type": "code",
   "execution_count": null,
   "metadata": {
    "collapsed": false
   },
   "outputs": [],
   "source": [
    "# %pip install manager incase you can't download these packages\n",
    "%pip install pandas\n",
    "%pip install numpy\n",
    "%pip install matplotlib\n",
    "%pip install scikit-learn\n",
    "%pip install openpyxl"
   ]
  },
  {
   "cell_type": "code",
   "execution_count": 7,
   "metadata": {
    "collapsed": false
   },
   "outputs": [],
   "source": [
    "import pandas as pd\n",
    "import numpy as np\n",
    "import matplotlib as mpl\n",
    "import matplotlib.pyplot as plt\n",
    "\n",
    "from sklearn.ensemble import RandomForestClassifier\n",
    "from sklearn.model_selection import train_test_split\n",
    "from sklearn.metrics import confusion_matrix, accuracy_score"
   ]
  },
  {
   "cell_type": "code",
   "execution_count": 59,
   "metadata": {
    "collapsed": false
   },
   "outputs": [
    {
     "name": "stdout",
     "output_type": "stream",
     "text": [
      "0.5227272727272727\n"
     ]
    }
   ],
   "source": [
    "#Google Sheet Link: https://docs.google.com/spreadsheets/d/1RiU9c3YihCsAqh18C25WMfTxkOiAf-nXhxAWtEaKLA0/edit#gid=0\n",
    "pd.set_option('display.max_rows', 200, 'display.min_rows', 30) #Displays a max of 200 rows for testing\n",
    "\n",
    "sheet_id = '1RiU9c3YihCsAqh18C25WMfTxkOiAf-nXhxAWtEaKLA0'\n",
    "xls = pd.ExcelFile(f\"https://docs.google.com/spreadsheets/d/{sheet_id}/export?format=xlsx\")\n",
    "\n",
    "arrivals = pd.read_excel(xls, 'Arrivals', header = 0) #Reads in the Google Sheets Data\n",
    "departures = pd.read_excel(xls, 'Departures', header = 0)\n",
    "arrivals = arrivals.drop(['blank', 'Communication Type/Reason for Speaking.1'], axis=1) #Drops unnecessary Columns/Headers\n",
    "departures = departures.drop(['Airport', 'Communication Type/Reason for Speaking.1'], axis=1)\n",
    "\n",
    "arrivals = arrivals.dropna(thresh=14) #Drops all rows and columns with more than 14 N/A values\n",
    "departures = departures.dropna(thresh=14)\n",
    "\n",
    "# create a new leftmost column for the index\n",
    "# iterate through the rows and index the responses of each flight based on unique flight no.\n",
    "counter = 0\n",
    "flight_no = -1\n",
    "arrivals.insert(loc = 0, # create arrivals indexing\n",
    "                column = 'index',\n",
    "                value = 0)\n",
    "for row in arrivals.iterrows():\n",
    "    if flight_no != row[1]['Flight No.']:\n",
    "        flight_no = row[1]['Flight No.']\n",
    "        counter = 0\n",
    "    arrivals.loc[row[0], 'index'] = counter\n",
    "    counter += 1\n",
    "\n",
    "counter = 0\n",
    "flight_no = -1\n",
    "departures.insert(loc = 0, # create departures indexing\n",
    "                column = 'index',\n",
    "                value = 0)\n",
    "for row in departures.iterrows():\n",
    "    if flight_no != row[1]['Flight No.']:\n",
    "        flight_no = row[1]['Flight No.']\n",
    "        counter = 0\n",
    "    departures.loc[row[0], 'index'] = counter\n",
    "    counter += 1\n",
    "\n",
    "\n",
    "#Gets the specifics columns from collected data\n",
    "x = arrivals[['index']]\n",
    "y = arrivals[['Communication Type/Reason for Speaking']]\n",
    "\n",
    "#Splits the data into training and testing sets\n",
    "xTrain, xTest, yTrain, yTest = train_test_split(x,y, test_size = .25, random_state = 42)\n",
    "\n",
    "#Creates a random forest classifier using the criterion gini to determine the split\n",
    "rf = RandomForestClassifier(criterion='gini', bootstrap=True, n_estimators=500)\n",
    "\n",
    "#Fits the model to the training data\n",
    "model_rf = rf.fit(xTrain, yTrain.values.ravel())\n",
    "\n",
    "#Makes a prediction based on the test data\n",
    "pred = rf.predict(xTest)\n",
    "\n",
    "#Dipsplays the confusion matrix\n",
    "confusion_matrix(pred, yTest)\n",
    "\n",
    "#Prints the accuracy score\n",
    "print(accuracy_score(yTest,pred))\n",
    "\n",
    "#display(arrivals)\n",
    "#display(departures)"
   ]
  },
  {
   "cell_type": "code",
   "execution_count": null,
   "metadata": {
    "collapsed": false
   },
   "outputs": [],
   "source": []
  }
 ],
 "metadata": {
  "kernelspec": {
   "display_name": "Python 3",
   "language": "python",
   "name": "python3"
  },
  "language_info": {
   "codemirror_mode": {
    "name": "ipython",
    "version": 3
   },
   "file_extension": ".py",
   "mimetype": "text/x-python",
   "name": "python",
   "nbconvert_exporter": "python",
   "pygments_lexer": "ipython3",
   "version": "3.11.1"
  },
  "vscode": {
   "interpreter": {
    "hash": "6a572c6d48cfcb90b8e98a369a6cb7ae8c3ee8d58cea6e550796bf09abebf0a2"
   }
  }
 },
 "nbformat": 4,
 "nbformat_minor": 0
}
