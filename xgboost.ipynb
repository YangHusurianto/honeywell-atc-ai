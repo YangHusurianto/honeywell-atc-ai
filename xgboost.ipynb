{
 "cells": [
  {
   "cell_type": "code",
   "execution_count": null,
   "id": "dd37abc0",
   "metadata": {},
   "outputs": [],
   "source": [
    "%pip install pandas\n",
    "%pip install numpy\n",
    "%pip install matplotlib\n",
    "%pip install scikit-learn\n",
    "%pip install openpyxl\n",
    "%pip install xgboost\n",
    "%pip install sklearn.preprocessing\n",
    "#pip install catboost"
   ]
  },
  {
   "cell_type": "code",
   "execution_count": 18,
   "outputs": [],
   "source": [
    "# Import the required packages\n",
    "import pandas as pd\n",
    "import numpy as np\n",
    "from sklearn.model_selection import train_test_split\n",
    "\n",
    "#Google Sheet Link: https://docs.google.com/spreadsheets/d/1RiU9c3YihCsAqh18C25WMfTxkOiAf-nXhxAWtEaKLA0/edit#gid=0\n",
    "pd.set_option('display.max_rows', 200, 'display.min_rows', 30) #Displays a max of 200 rows for testing\n",
    "\n",
    "sheet_id = '1RiU9c3YihCsAqh18C25WMfTxkOiAf-nXhxAWtEaKLA0'\n",
    "xls = pd.ExcelFile(f\"https://docs.google.com/spreadsheets/d/{sheet_id}/export?format=xlsx\")\n",
    "\n",
    "arrivals_pure = pd.read_excel(xls, 'Arrivals', header = 0) #Reads in the Google Sheets Data\n",
    "departures_pure = pd.read_excel(xls, 'Departures', header = 0)"
   ],
   "metadata": {
    "collapsed": false,
    "ExecuteTime": {
     "start_time": "2023-04-06T11:43:07.525854Z",
     "end_time": "2023-04-06T11:43:10.989852Z"
    }
   }
  },
  {
   "cell_type": "code",
   "execution_count": 19,
   "outputs": [],
   "source": [
    "arrivals = arrivals_pure.drop(['blank', 'Communication Type/Reason for Speaking.1'], axis=1) #Drops unnecessary Columns/Headers\n",
    "departures = departures_pure.drop(['Airport', 'Communication Type/Reason for Speaking.1'], axis=1)\n",
    "\n",
    "arrivals = arrivals.dropna(thresh=14) #Drops all rows and columns with more than 14 N/A values\n",
    "departures = departures.dropna(thresh=14)\n",
    "\n",
    "# create a new leftmost column for the index\n",
    "# iterate through the rows and index the responses of each flight based on unique flight no.\n",
    "def index_data(df):\n",
    "    counter = 0\n",
    "    flight_no = -1\n",
    "    df.insert(loc = 0, # create arrivals indexing\n",
    "                column = 'index',\n",
    "                value = 0)\n",
    "    for row in df.iterrows():\n",
    "        if flight_no != row[1]['Flight No.']:\n",
    "            flight_no = row[1]['Flight No.']\n",
    "            counter = 0\n",
    "        df.loc[row[0], 'index'] = counter\n",
    "        counter += 1\n",
    "    return df\n",
    "\n",
    "arrivals = index_data(arrivals)\n",
    "departures = index_data(departures)\n",
    "\n",
    "#Gets the specifics columns from collected data\n",
    "x = arrivals[['index']]\n",
    "y = arrivals[['Communication Type/Reason for Speaking']]\n",
    "\n",
    "# Change y-axis labels to numeric values\n",
    "from sklearn.preprocessing import LabelEncoder\n",
    "\n",
    "encoder = LabelEncoder()\n",
    "y = encoder.fit_transform(y.values.ravel())"
   ],
   "metadata": {
    "collapsed": false,
    "ExecuteTime": {
     "start_time": "2023-04-06T11:43:10.996353Z",
     "end_time": "2023-04-06T11:43:11.081850Z"
    }
   }
  },
  {
   "cell_type": "code",
   "execution_count": 61,
   "outputs": [
    {
     "name": "stderr",
     "output_type": "stream",
     "text": [
      "C:\\Users\\yangh\\Documents\\ASU\\Year3\\Spring23\\CSE486\\honeywell-atc-ai\\venv\\lib\\site-packages\\dateutil\\parser\\_parser.py:1207: UnknownTimezoneWarning: tzname MST identified but not understood.  Pass `tzinfos` argument in order to correctly return a timezone-aware datetime.  In a future version, this will raise an exception.\n",
      "  warnings.warn(\"tzname {tzname} identified but not understood.  \"\n"
     ]
    },
    {
     "data": {
      "text/plain": "272    1.680801e+09\n229    1.680802e+09\n340    1.680786e+09\n18     1.680779e+09\n153    1.680798e+09\n26     1.680780e+09\n333    1.680786e+09\n358    1.680786e+09\n242    1.680797e+09\n260    1.680803e+09\n373    1.680785e+09\n215    1.680787e+09\n145    1.680797e+09\n280    1.680801e+09\n355    1.680786e+09\n           ...     \n163    1.680798e+09\n143    1.680797e+09\n165    1.680798e+09\n109    1.680802e+09\n97     1.680801e+09\n357    1.680786e+09\n233    1.680802e+09\n133    1.680797e+09\n376    1.680785e+09\n21     1.680779e+09\n205    1.680787e+09\n80     1.680801e+09\n117    1.680802e+09\n294    1.680787e+09\n112    1.680802e+09\nName: Time of Communication, Length: 261, dtype: float64"
     },
     "metadata": {},
     "output_type": "display_data"
    },
    {
     "name": "stdout",
     "output_type": "stream",
     "text": [
      "AAAAAAAAAAAAAAAAAAAAAAAAA\n"
     ]
    },
    {
     "data": {
      "text/plain": "array([4, 0, 0, 0, 3, 5, 3, 2, 3, 0, 4, 2, 0, 2, 3, 5, 0, 0, 0, 0, 1, 0,\n       5, 4, 0, 3, 4, 3, 0, 3, 4, 3, 1, 0, 3, 5, 5, 0, 0, 3, 0, 0, 2, 5,\n       3, 0, 3, 0, 0, 0, 2, 4, 0, 0, 0, 0, 0, 2, 3, 0, 3, 0, 3, 5, 0, 5,\n       4, 0, 5, 3, 0, 5, 0, 3, 4, 6, 0, 0, 0, 2, 4, 4, 4, 0, 0, 0, 5, 3,\n       0, 1, 5, 0, 0, 0, 0, 2, 3, 0, 0, 3, 3, 5, 5, 0, 0, 3, 0, 5, 3, 3,\n       5, 0, 0, 4, 4, 0, 3, 0, 5, 4, 2, 5, 1, 5, 0, 3, 3, 3, 5, 0, 1, 5,\n       2, 1, 3, 3, 5, 5, 1, 0, 4, 0, 2, 2, 3, 5, 0, 4, 3, 0, 0, 0, 4, 5,\n       0, 0, 2, 0, 3, 2, 2, 6, 2, 5, 3, 0, 3, 5, 2, 3, 3, 5, 3, 0, 4, 3,\n       5, 0, 3, 1, 1, 0, 0, 4, 1, 3, 0, 4, 5, 5, 6, 5, 3, 3, 0, 0, 0, 0,\n       5, 5, 3, 4, 4, 5, 3, 0, 3, 3, 5, 2, 3, 3, 2, 0, 3, 1, 3, 0, 5, 0,\n       3, 4, 3, 4, 0, 3, 0, 2, 5, 1, 0, 2, 0, 0, 4, 4, 5, 3, 0, 3, 0, 0,\n       0, 0, 0, 0, 0, 0, 0, 4, 1, 0, 0, 4, 0, 3, 3, 0, 0, 5, 0])"
     },
     "metadata": {},
     "output_type": "display_data"
    },
    {
     "name": "stdout",
     "output_type": "stream",
     "text": [
      "(array([[1.68080064e+09, 1.68080196e+09, 1.68078570e+09, 1.68077916e+09,\n",
      "        1.68079770e+09],\n",
      "       [1.68080196e+09, 1.68078570e+09, 1.68077916e+09, 1.68079770e+09,\n",
      "        1.68077982e+09],\n",
      "       [1.68078570e+09, 1.68077916e+09, 1.68079770e+09, 1.68077982e+09,\n",
      "        1.68078558e+09],\n",
      "       [1.68077916e+09, 1.68079770e+09, 1.68077982e+09, 1.68078558e+09,\n",
      "        1.68078648e+09],\n",
      "       [1.68079770e+09, 1.68077982e+09, 1.68078558e+09, 1.68078648e+09,\n",
      "        1.68079746e+09],\n",
      "       [1.68077982e+09, 1.68078558e+09, 1.68078648e+09, 1.68079746e+09,\n",
      "        1.68080298e+09],\n",
      "       [1.68078558e+09, 1.68078648e+09, 1.68079746e+09, 1.68080298e+09,\n",
      "        1.68078480e+09],\n",
      "       [1.68078648e+09, 1.68079746e+09, 1.68080298e+09, 1.68078480e+09,\n",
      "        1.68078732e+09],\n",
      "       [1.68079746e+09, 1.68080298e+09, 1.68078480e+09, 1.68078732e+09,\n",
      "        1.68079746e+09],\n",
      "       [1.68080298e+09, 1.68078480e+09, 1.68078732e+09, 1.68079746e+09,\n",
      "        1.68080076e+09]]), array([5, 3, 2, 3, 0, 4, 2, 0, 2, 3]))\n",
      "Epoch 1/10\n",
      "26/26 [==============================] - 3s 3ms/step - loss: 495579543092854784.0000\n",
      "Epoch 2/10\n",
      "26/26 [==============================] - 0s 3ms/step - loss: 324774741044887552.0000\n",
      "Epoch 3/10\n",
      "26/26 [==============================] - 0s 3ms/step - loss: 221006544467132416.0000\n",
      "Epoch 4/10\n",
      "26/26 [==============================] - 0s 2ms/step - loss: 157325253347901440.0000\n",
      "Epoch 5/10\n",
      "26/26 [==============================] - 0s 3ms/step - loss: 116876977931026432.0000\n",
      "Epoch 6/10\n",
      "26/26 [==============================] - 0s 3ms/step - loss: 88804874115874816.0000\n",
      "Epoch 7/10\n",
      "26/26 [==============================] - 0s 2ms/step - loss: 69188512934526976.0000\n",
      "Epoch 8/10\n",
      "26/26 [==============================] - 0s 3ms/step - loss: 55053273052217344.0000\n",
      "Epoch 9/10\n",
      "26/26 [==============================] - 0s 3ms/step - loss: 44393945907593216.0000\n",
      "Epoch 10/10\n",
      "26/26 [==============================] - 0s 2ms/step - loss: 36360295479771136.0000\n",
      "83/83 [==============================] - 0s 1ms/step\n"
     ]
    },
    {
     "data": {
      "text/plain": "array([[1.8135610e+08],\n       [1.8135582e+08],\n       [1.8135574e+08],\n       [1.8135598e+08],\n       [1.8135570e+08],\n       [1.8135550e+08],\n       [1.8135587e+08],\n       [1.8135610e+08],\n       [1.8135616e+08],\n       [1.8135632e+08],\n       [1.8135616e+08],\n       [1.8135562e+08],\n       [1.8135539e+08],\n       [1.8135565e+08],\n       [1.8135526e+08],\n       [1.8135555e+08],\n       [1.8135594e+08],\n       [1.8135565e+08],\n       [1.8135542e+08],\n       [1.8135549e+08],\n       [1.8135576e+08],\n       [1.8135534e+08],\n       [1.8135589e+08],\n       [1.8135555e+08],\n       [1.8135594e+08],\n       [1.8135566e+08],\n       [1.8135565e+08],\n       [1.8135539e+08],\n       [1.8135525e+08],\n       [1.8135536e+08],\n       [1.8135536e+08],\n       [1.8135517e+08],\n       [1.8135496e+08],\n       [1.8135490e+08],\n       [1.8135526e+08],\n       [1.8135523e+08],\n       [1.8135563e+08],\n       [1.8135610e+08],\n       [1.8135600e+08],\n       [1.8135544e+08],\n       [1.8135582e+08],\n       [1.8135595e+08],\n       [1.8135546e+08],\n       [1.8135541e+08],\n       [1.8135590e+08],\n       [1.8135563e+08],\n       [1.8135538e+08],\n       [1.8135520e+08],\n       [1.8135570e+08],\n       [1.8135590e+08],\n       [1.8135629e+08],\n       [1.8135611e+08],\n       [1.8135589e+08],\n       [1.8135605e+08],\n       [1.8135616e+08],\n       [1.8135611e+08],\n       [1.8135598e+08],\n       [1.8135576e+08],\n       [1.8135530e+08],\n       [1.8135506e+08],\n       [1.8135539e+08],\n       [1.8135582e+08],\n       [1.8135582e+08],\n       [1.8135582e+08],\n       [1.8135619e+08],\n       [1.8135586e+08],\n       [1.8135589e+08],\n       [1.8135622e+08],\n       [1.8135651e+08],\n       [1.8135589e+08],\n       [1.8135563e+08],\n       [1.8135538e+08],\n       [1.8135494e+08],\n       [1.8135526e+08],\n       [1.8135581e+08],\n       [1.8135578e+08],\n       [1.8135568e+08],\n       [1.8135603e+08],\n       [1.8135605e+08],\n       [1.8135616e+08],\n       [1.8135648e+08],\n       [1.8135610e+08],\n       [1.8135578e+08]], dtype=float32)"
     },
     "metadata": {},
     "output_type": "display_data"
    }
   ],
   "source": [
    "#Gets the specifics columns from collected data\n",
    "# x = arrivals[['index']]\n",
    "# x = arrivals.drop(['Communication Type/Reason for Speaking', 'Transcribed Communication'], axis=1)\n",
    "x = arrivals[['Time of Communication']]\n",
    "x = pd.to_datetime(x['Time of Communication'])\n",
    "x = x.map(pd.Timestamp.timestamp)\n",
    "\n",
    "y = arrivals[['Communication Type/Reason for Speaking']]\n",
    "y = encoder.fit_transform(y.values.ravel())\n",
    "\n",
    "x_train, x_test, y_train, y_test = train_test_split(x,y, test_size = .25, random_state = 42)\n",
    "\n",
    "from keras.preprocessing.sequence import TimeseriesGenerator\n",
    "look_back = 5\n",
    "training_generator = TimeseriesGenerator(x_train, y_train, length=look_back, batch_size=10)\n",
    "testing_generator = TimeseriesGenerator(x_test, y_test, length=look_back, batch_size=1)\n",
    "\n",
    "print(training_generator[0])\n",
    "\n",
    "import tensorflow as tf\n",
    "from keras.models import Sequential\n",
    "from keras.layers import LSTM, Dense\n",
    "model = Sequential()\n",
    "model.add(\n",
    "    LSTM(\n",
    "        units=10,\n",
    "        activation='relu',\n",
    "        input_shape=(look_back, 1)\n",
    "    )\n",
    ")\n",
    "model.add(Dense(1))\n",
    "\n",
    "model.compile(optimizer='adam', loss='mse')\n",
    "\n",
    "model.fit(training_generator, epochs=10, verbose=1)\n",
    "prediction = model.predict(testing_generator)\n",
    "\n",
    "display(prediction)"
   ],
   "metadata": {
    "collapsed": false,
    "ExecuteTime": {
     "start_time": "2023-04-06T13:49:05.930426Z",
     "end_time": "2023-04-06T13:49:09.942926Z"
    }
   }
  }
 ],
 "metadata": {
  "kernelspec": {
   "display_name": "Python 3 (ipykernel)",
   "language": "python",
   "name": "python3"
  },
  "language_info": {
   "codemirror_mode": {
    "name": "ipython",
    "version": 3
   },
   "file_extension": ".py",
   "mimetype": "text/x-python",
   "name": "python",
   "nbconvert_exporter": "python",
   "pygments_lexer": "ipython3",
   "version": "3.9.13"
  }
 },
 "nbformat": 4,
 "nbformat_minor": 5
}
